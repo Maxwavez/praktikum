{
 "cells": [
  {
   "cell_type": "markdown",
   "metadata": {},
   "source": [
    "**Анализ пользовательского поведения в мобильном приложении**"
   ]
  },
  {
   "cell_type": "markdown",
   "metadata": {},
   "source": [
    "## Описание проекта\n",
    "\n",
    "**Контекст**\n",
    "\n",
    "Вы работаете в стартапе, который продаёт продукты питания. Нужно разобраться, как ведут себя пользователи вашего мобильного приложения. \n",
    "Изучите воронку продаж. Узнайте, как пользователи доходят до покупки. Сколько пользователей доходит до покупки, а сколько — «застревает» на предыдущих шагах? На каких именно?\n",
    "После этого исследуйте результаты A/A/B-эксперимента. Дизайнеры захотели поменять шрифты во всём приложении, а менеджеры испугались, что пользователям будет непривычно. Договорились принять решение по результатам A/A/B-теста. Пользователей разбили на 3 группы: 2 контрольные со старыми шрифтами и одну экспериментальную — с новыми. Выясните, какой шрифт лучше.\n",
    "Создание двух групп A вместо одной имеет определённые преимущества. Если две контрольные группы окажутся равны, вы можете быть уверены в точности проведенного тестирования. Если же между значениями A и A будут существенные различия, это поможет обнаружить факторы, которые привели к искажению результатов. Сравнение контрольных групп также помогает понять, сколько времени и данных потребуется для дальнейших тестов.\n",
    "В случае общей аналитики и A/A/B-эксперимента работайте с одними и теми же данными. В реальных проектах всегда идут эксперименты. Аналитики исследуют качество работы приложения по общим данным, не учитывая принадлежность пользователей к экспериментам."
   ]
  },
  {
   "cell_type": "markdown",
   "metadata": {},
   "source": [
    "## Описание данных\n",
    "Каждая запись в логе — это действие пользователя, или событие. \n",
    "- `EventName` — название события;\n",
    "- `DeviceIDHash` — уникальный идентификатор пользователя;\n",
    "- `EventTimestamp` — время события;\n",
    "- `ExpId` — номер эксперимента: 246 и 247 — контрольные группы, а 248 — экспериментальная."
   ]
  },
  {
   "cell_type": "markdown",
   "metadata": {},
   "source": [
    "## Цель исследования"
   ]
  },
  {
   "cell_type": "markdown",
   "metadata": {},
   "source": [
    "С помощью A/A/B теста выяснить, влияет ли изменение шрифтов в приложении на воронку продаж и решить стоит ли использовать новый шрифт."
   ]
  },
  {
   "cell_type": "markdown",
   "metadata": {},
   "source": [
    "## План исследования\n",
    "\n",
    "- Шаг 1. Загрузить данные и изучить общую информацию\n",
    "- Шаг 2. Подготовить данные\n",
    "- Шаг 3. Исследовательский анализ\n",
    "- Шаг 4. Изучить воронку событий\n",
    "- Шаг 5. Изучить результаты эксперимента\n"
   ]
  },
  {
   "cell_type": "markdown",
   "metadata": {},
   "source": [
    "### Шаг 1. Загрузка и ознакомление с данными"
   ]
  },
  {
   "cell_type": "code",
   "execution_count": 56,
   "metadata": {},
   "outputs": [],
   "source": [
    "# импорт библиотек\n",
    "import pandas as pd\n",
    "import numpy as np\n",
    "import matplotlib.pyplot as plt\n",
    "import seaborn as sns\n",
    "import scipy.stats as st\n",
    "from datetime import datetime, timedelta\n",
    "import math\n",
    "from plotly import graph_objects as go\n",
    "from statsmodels.sandbox.stats.multicomp import multipletests"
   ]
  },
  {
   "cell_type": "code",
   "execution_count": 57,
   "metadata": {},
   "outputs": [],
   "source": [
    "# загрузка данных\n",
    "data = pd.read_csv('https://code.s3.yandex.net/datasets/logs_exp.csv', sep='\\t')"
   ]
  },
  {
   "cell_type": "code",
   "execution_count": 58,
   "metadata": {},
   "outputs": [
    {
     "data": {
      "text/html": [
       "<div>\n",
       "<style scoped>\n",
       "    .dataframe tbody tr th:only-of-type {\n",
       "        vertical-align: middle;\n",
       "    }\n",
       "\n",
       "    .dataframe tbody tr th {\n",
       "        vertical-align: top;\n",
       "    }\n",
       "\n",
       "    .dataframe thead th {\n",
       "        text-align: right;\n",
       "    }\n",
       "</style>\n",
       "<table border=\"1\" class=\"dataframe\">\n",
       "  <thead>\n",
       "    <tr style=\"text-align: right;\">\n",
       "      <th></th>\n",
       "      <th>EventName</th>\n",
       "      <th>DeviceIDHash</th>\n",
       "      <th>EventTimestamp</th>\n",
       "      <th>ExpId</th>\n",
       "    </tr>\n",
       "  </thead>\n",
       "  <tbody>\n",
       "    <tr>\n",
       "      <th>0</th>\n",
       "      <td>MainScreenAppear</td>\n",
       "      <td>4575588528974610257</td>\n",
       "      <td>1564029816</td>\n",
       "      <td>246</td>\n",
       "    </tr>\n",
       "    <tr>\n",
       "      <th>1</th>\n",
       "      <td>MainScreenAppear</td>\n",
       "      <td>7416695313311560658</td>\n",
       "      <td>1564053102</td>\n",
       "      <td>246</td>\n",
       "    </tr>\n",
       "    <tr>\n",
       "      <th>2</th>\n",
       "      <td>PaymentScreenSuccessful</td>\n",
       "      <td>3518123091307005509</td>\n",
       "      <td>1564054127</td>\n",
       "      <td>248</td>\n",
       "    </tr>\n",
       "    <tr>\n",
       "      <th>3</th>\n",
       "      <td>CartScreenAppear</td>\n",
       "      <td>3518123091307005509</td>\n",
       "      <td>1564054127</td>\n",
       "      <td>248</td>\n",
       "    </tr>\n",
       "    <tr>\n",
       "      <th>4</th>\n",
       "      <td>PaymentScreenSuccessful</td>\n",
       "      <td>6217807653094995999</td>\n",
       "      <td>1564055322</td>\n",
       "      <td>248</td>\n",
       "    </tr>\n",
       "  </tbody>\n",
       "</table>\n",
       "</div>"
      ],
      "text/plain": [
       "                 EventName         DeviceIDHash  EventTimestamp  ExpId\n",
       "0         MainScreenAppear  4575588528974610257      1564029816    246\n",
       "1         MainScreenAppear  7416695313311560658      1564053102    246\n",
       "2  PaymentScreenSuccessful  3518123091307005509      1564054127    248\n",
       "3         CartScreenAppear  3518123091307005509      1564054127    248\n",
       "4  PaymentScreenSuccessful  6217807653094995999      1564055322    248"
      ]
     },
     "execution_count": 58,
     "metadata": {},
     "output_type": "execute_result"
    }
   ],
   "source": [
    "data.head()"
   ]
  },
  {
   "cell_type": "code",
   "execution_count": 59,
   "metadata": {},
   "outputs": [
    {
     "name": "stdout",
     "output_type": "stream",
     "text": [
      "<class 'pandas.core.frame.DataFrame'>\n",
      "RangeIndex: 244126 entries, 0 to 244125\n",
      "Data columns (total 4 columns):\n",
      " #   Column          Non-Null Count   Dtype \n",
      "---  ------          --------------   ----- \n",
      " 0   EventName       244126 non-null  object\n",
      " 1   DeviceIDHash    244126 non-null  int64 \n",
      " 2   EventTimestamp  244126 non-null  int64 \n",
      " 3   ExpId           244126 non-null  int64 \n",
      "dtypes: int64(3), object(1)\n",
      "memory usage: 7.5+ MB\n"
     ]
    }
   ],
   "source": [
    "# посмотрим общую информацию о датафрейме\n",
    "data.info()"
   ]
  },
  {
   "cell_type": "markdown",
   "metadata": {},
   "source": [
    "### Шаг 2. Предобработка"
   ]
  },
  {
   "cell_type": "code",
   "execution_count": 60,
   "metadata": {},
   "outputs": [],
   "source": [
    "# переименуем колонки для удобства, а также приведем к единому стилю\n",
    "data.columns = ['event_name', 'device_id', 'event_timestamp', 'group_id']"
   ]
  },
  {
   "cell_type": "code",
   "execution_count": 61,
   "metadata": {},
   "outputs": [
    {
     "data": {
      "text/plain": [
       "event_name         0.0\n",
       "device_id          0.0\n",
       "event_timestamp    0.0\n",
       "group_id           0.0\n",
       "dtype: float64"
      ]
     },
     "execution_count": 61,
     "metadata": {},
     "output_type": "execute_result"
    }
   ],
   "source": [
    "# проверим наличие пропусков\n",
    "data.isna().mean()"
   ]
  },
  {
   "cell_type": "code",
   "execution_count": 62,
   "metadata": {},
   "outputs": [
    {
     "data": {
      "text/plain": [
       "413"
      ]
     },
     "execution_count": 62,
     "metadata": {},
     "output_type": "execute_result"
    }
   ],
   "source": [
    "# проверим наличие дубликатов\n",
    "data.duplicated().sum()"
   ]
  },
  {
   "cell_type": "markdown",
   "metadata": {},
   "source": [
    "В датафрейме 413 явных (полных) дубликатов."
   ]
  },
  {
   "cell_type": "code",
   "execution_count": 63,
   "metadata": {},
   "outputs": [],
   "source": [
    "# удалим полные дубликаты из данных\n",
    "data = data.drop_duplicates().reset_index(drop=True)"
   ]
  },
  {
   "cell_type": "code",
   "execution_count": 64,
   "metadata": {},
   "outputs": [],
   "source": [
    "# добавим новые колонки с датами и соответсвующими типами данных\n",
    "data['event_datetime'] = pd.to_datetime(data['event_timestamp'], unit = 's')\n",
    "data['event_date'] = data['event_datetime'].dt.date\n",
    "data['event_date'] = data['event_date'].astype('datetime64[D]')"
   ]
  },
  {
   "cell_type": "code",
   "execution_count": 65,
   "metadata": {},
   "outputs": [
    {
     "data": {
      "text/html": [
       "<div>\n",
       "<style scoped>\n",
       "    .dataframe tbody tr th:only-of-type {\n",
       "        vertical-align: middle;\n",
       "    }\n",
       "\n",
       "    .dataframe tbody tr th {\n",
       "        vertical-align: top;\n",
       "    }\n",
       "\n",
       "    .dataframe thead th {\n",
       "        text-align: right;\n",
       "    }\n",
       "</style>\n",
       "<table border=\"1\" class=\"dataframe\">\n",
       "  <thead>\n",
       "    <tr style=\"text-align: right;\">\n",
       "      <th></th>\n",
       "      <th>event_name</th>\n",
       "      <th>device_id</th>\n",
       "      <th>event_timestamp</th>\n",
       "      <th>group_id</th>\n",
       "      <th>event_datetime</th>\n",
       "      <th>event_date</th>\n",
       "    </tr>\n",
       "  </thead>\n",
       "  <tbody>\n",
       "    <tr>\n",
       "      <th>0</th>\n",
       "      <td>MainScreenAppear</td>\n",
       "      <td>4575588528974610257</td>\n",
       "      <td>1564029816</td>\n",
       "      <td>246</td>\n",
       "      <td>2019-07-25 04:43:36</td>\n",
       "      <td>2019-07-25</td>\n",
       "    </tr>\n",
       "    <tr>\n",
       "      <th>1</th>\n",
       "      <td>MainScreenAppear</td>\n",
       "      <td>7416695313311560658</td>\n",
       "      <td>1564053102</td>\n",
       "      <td>246</td>\n",
       "      <td>2019-07-25 11:11:42</td>\n",
       "      <td>2019-07-25</td>\n",
       "    </tr>\n",
       "    <tr>\n",
       "      <th>2</th>\n",
       "      <td>PaymentScreenSuccessful</td>\n",
       "      <td>3518123091307005509</td>\n",
       "      <td>1564054127</td>\n",
       "      <td>248</td>\n",
       "      <td>2019-07-25 11:28:47</td>\n",
       "      <td>2019-07-25</td>\n",
       "    </tr>\n",
       "    <tr>\n",
       "      <th>3</th>\n",
       "      <td>CartScreenAppear</td>\n",
       "      <td>3518123091307005509</td>\n",
       "      <td>1564054127</td>\n",
       "      <td>248</td>\n",
       "      <td>2019-07-25 11:28:47</td>\n",
       "      <td>2019-07-25</td>\n",
       "    </tr>\n",
       "    <tr>\n",
       "      <th>4</th>\n",
       "      <td>PaymentScreenSuccessful</td>\n",
       "      <td>6217807653094995999</td>\n",
       "      <td>1564055322</td>\n",
       "      <td>248</td>\n",
       "      <td>2019-07-25 11:48:42</td>\n",
       "      <td>2019-07-25</td>\n",
       "    </tr>\n",
       "  </tbody>\n",
       "</table>\n",
       "</div>"
      ],
      "text/plain": [
       "                event_name            device_id  event_timestamp  group_id  \\\n",
       "0         MainScreenAppear  4575588528974610257       1564029816       246   \n",
       "1         MainScreenAppear  7416695313311560658       1564053102       246   \n",
       "2  PaymentScreenSuccessful  3518123091307005509       1564054127       248   \n",
       "3         CartScreenAppear  3518123091307005509       1564054127       248   \n",
       "4  PaymentScreenSuccessful  6217807653094995999       1564055322       248   \n",
       "\n",
       "       event_datetime event_date  \n",
       "0 2019-07-25 04:43:36 2019-07-25  \n",
       "1 2019-07-25 11:11:42 2019-07-25  \n",
       "2 2019-07-25 11:28:47 2019-07-25  \n",
       "3 2019-07-25 11:28:47 2019-07-25  \n",
       "4 2019-07-25 11:48:42 2019-07-25  "
      ]
     },
     "execution_count": 65,
     "metadata": {},
     "output_type": "execute_result"
    }
   ],
   "source": [
    "# посмотрим на датафрейм после предобработки\n",
    "data.head()"
   ]
  },
  {
   "cell_type": "code",
   "execution_count": 66,
   "metadata": {},
   "outputs": [
    {
     "data": {
      "text/plain": [
       "Timestamp('2019-07-25 00:00:00')"
      ]
     },
     "metadata": {},
     "output_type": "display_data"
    },
    {
     "data": {
      "text/plain": [
       "Timestamp('2019-08-07 00:00:00')"
      ]
     },
     "metadata": {},
     "output_type": "display_data"
    }
   ],
   "source": [
    "# посмотрим за какой период представлены данные\n",
    "display(data.event_date.min())\n",
    "display(data.event_date.max())"
   ]
  },
  {
   "cell_type": "markdown",
   "metadata": {},
   "source": [
    "В ходе предобработки была проведена проверка на пропуски, были удалены явные дубликаты, добавлены колонки с датами. Данные готовы к анализу."
   ]
  },
  {
   "cell_type": "markdown",
   "metadata": {},
   "source": [
    "### Шаг 3. Исследовательский анализ"
   ]
  },
  {
   "cell_type": "code",
   "execution_count": 67,
   "metadata": {
    "scrolled": true
   },
   "outputs": [
    {
     "data": {
      "text/plain": [
       "array(['MainScreenAppear', 'PaymentScreenSuccessful', 'CartScreenAppear',\n",
       "       'OffersScreenAppear', 'Tutorial'], dtype=object)"
      ]
     },
     "execution_count": 67,
     "metadata": {},
     "output_type": "execute_result"
    }
   ],
   "source": [
    "# посмотрим какие события существуют\n",
    "data.event_name.unique()"
   ]
  },
  {
   "cell_type": "code",
   "execution_count": 68,
   "metadata": {},
   "outputs": [
    {
     "data": {
      "text/plain": [
       "(243713, 6)"
      ]
     },
     "execution_count": 68,
     "metadata": {},
     "output_type": "execute_result"
    }
   ],
   "source": [
    "data.shape"
   ]
  },
  {
   "cell_type": "markdown",
   "metadata": {},
   "source": [
    "Всего в логе 243713 события 5 видов:\n",
    "- MainScreenAppear - главный экран\n",
    "- Tutorial - страница руководства/инструкций\n",
    "- OffersScreenAppear - экран товаров\n",
    "- CartScreenAppear - корзина\n",
    "- PaymentScreenSuccessful - экран оплаты"
   ]
  },
  {
   "cell_type": "code",
   "execution_count": 69,
   "metadata": {},
   "outputs": [
    {
     "data": {
      "text/plain": [
       "7551"
      ]
     },
     "execution_count": 69,
     "metadata": {},
     "output_type": "execute_result"
    }
   ],
   "source": [
    "# посмотрим количество пользователей, заходивших в приложение за исследуемый период\n",
    "data.device_id.nunique()"
   ]
  },
  {
   "cell_type": "markdown",
   "metadata": {},
   "source": [
    "За исследуемые период приложением пользовались 7551 пользователей."
   ]
  },
  {
   "cell_type": "code",
   "execution_count": 70,
   "metadata": {},
   "outputs": [
    {
     "data": {
      "text/plain": [
       "32.27559263673685"
      ]
     },
     "execution_count": 70,
     "metadata": {},
     "output_type": "execute_result"
    }
   ],
   "source": [
    "# среднее количество событий на пользователя\n",
    "data.shape[0] / data.device_id.nunique()"
   ]
  },
  {
   "cell_type": "markdown",
   "metadata": {},
   "source": [
    "Таким образом, в среднем на пользователя приходится 32 события"
   ]
  },
  {
   "cell_type": "code",
   "execution_count": 71,
   "metadata": {},
   "outputs": [
    {
     "data": {
      "image/png": "[encoded data removed]",
      "text/plain": [
       "<Figure size 640x480 with 1 Axes>"
      ]
     },
     "metadata": {},
     "output_type": "display_data"
    }
   ],
   "source": [
    "# изучим количество событий/действий, совершаемых пользователями по дням\n",
    "data.groupby('event_date').agg({'event_name': 'count'}).sort_values('event_date', ascending=False).plot(kind='barh', legend=False)\n",
    "plt.title('Количество событий в приложении по дням')\n",
    "plt.xlabel('Количество')\n",
    "plt.ylabel('Дата');"
   ]
  },
  {
   "cell_type": "markdown",
   "metadata": {},
   "source": [
    "В логе представлены данные за период с 25.07.2019 по 07.08.2019, т.е. за 2 недели, однако на графике видно, что за первую неделю данные неполные. Придется удалить их, чтобы не искажать результаты исследования. Таким образом в нашем распоряжении останутся данные только за период с 01.08.2019 по 07.08.2019"
   ]
  },
  {
   "cell_type": "code",
   "execution_count": 72,
   "metadata": {},
   "outputs": [
    {
     "name": "stdout",
     "output_type": "stream",
     "text": [
      "Всего событий за период неполных данных: 2826\n",
      "Их доля от общего количества: 0.01\n",
      "Количество пользователей за период неполных данных: 1451\n",
      "Доля таких пользователей от общего количества: 0.19\n"
     ]
    }
   ],
   "source": [
    "# посчитаем количество событий и пользователей, которые предстоит удалить\n",
    "print('Всего событий за период неполных данных: {}'.format(len( data[data['event_date'] < '2019-08-01']) ))\n",
    "print('Их доля от общего количества: {0:.2f}'.format(len( data[data['event_date'] < '2019-08-01']) / data.shape[0] ))\n",
    "print('Количество пользователей за период неполных данных: {}'.format(data[data['event_date'] < '2019-08-01'].device_id.nunique()))\n",
    "print('Доля таких пользователей от общего количества: {0:.2f}'.format(data[data['event_date'] < '2019-08-01'].device_id.nunique() / data.device_id.nunique()))"
   ]
  },
  {
   "cell_type": "markdown",
   "metadata": {},
   "source": [
    "Как видим, за указанный период доля таких событий составляет всего 1%, однако удалив их, придется потерять/урезать историю 19% пользователей."
   ]
  },
  {
   "cell_type": "code",
   "execution_count": 73,
   "metadata": {},
   "outputs": [],
   "source": [
    "# удалим из датафрейма лишние данные\n",
    "data = data[data['event_date'] >= '2019-08-01'].reset_index(drop=True)"
   ]
  },
  {
   "cell_type": "code",
   "execution_count": 74,
   "metadata": {},
   "outputs": [
    {
     "data": {
      "text/html": [
       "<div>\n",
       "<style scoped>\n",
       "    .dataframe tbody tr th:only-of-type {\n",
       "        vertical-align: middle;\n",
       "    }\n",
       "\n",
       "    .dataframe tbody tr th {\n",
       "        vertical-align: top;\n",
       "    }\n",
       "\n",
       "    .dataframe thead th {\n",
       "        text-align: right;\n",
       "    }\n",
       "</style>\n",
       "<table border=\"1\" class=\"dataframe\">\n",
       "  <thead>\n",
       "    <tr style=\"text-align: right;\">\n",
       "      <th></th>\n",
       "      <th>event_name</th>\n",
       "      <th>device_id</th>\n",
       "      <th>event_timestamp</th>\n",
       "      <th>group_id</th>\n",
       "      <th>event_datetime</th>\n",
       "      <th>event_date</th>\n",
       "    </tr>\n",
       "  </thead>\n",
       "  <tbody>\n",
       "    <tr>\n",
       "      <th>0</th>\n",
       "      <td>Tutorial</td>\n",
       "      <td>3737462046622621720</td>\n",
       "      <td>1564618048</td>\n",
       "      <td>246</td>\n",
       "      <td>2019-08-01 00:07:28</td>\n",
       "      <td>2019-08-01</td>\n",
       "    </tr>\n",
       "    <tr>\n",
       "      <th>1</th>\n",
       "      <td>MainScreenAppear</td>\n",
       "      <td>3737462046622621720</td>\n",
       "      <td>1564618080</td>\n",
       "      <td>246</td>\n",
       "      <td>2019-08-01 00:08:00</td>\n",
       "      <td>2019-08-01</td>\n",
       "    </tr>\n",
       "    <tr>\n",
       "      <th>2</th>\n",
       "      <td>MainScreenAppear</td>\n",
       "      <td>3737462046622621720</td>\n",
       "      <td>1564618135</td>\n",
       "      <td>246</td>\n",
       "      <td>2019-08-01 00:08:55</td>\n",
       "      <td>2019-08-01</td>\n",
       "    </tr>\n",
       "    <tr>\n",
       "      <th>3</th>\n",
       "      <td>OffersScreenAppear</td>\n",
       "      <td>3737462046622621720</td>\n",
       "      <td>1564618138</td>\n",
       "      <td>246</td>\n",
       "      <td>2019-08-01 00:08:58</td>\n",
       "      <td>2019-08-01</td>\n",
       "    </tr>\n",
       "    <tr>\n",
       "      <th>4</th>\n",
       "      <td>MainScreenAppear</td>\n",
       "      <td>1433840883824088890</td>\n",
       "      <td>1564618139</td>\n",
       "      <td>247</td>\n",
       "      <td>2019-08-01 00:08:59</td>\n",
       "      <td>2019-08-01</td>\n",
       "    </tr>\n",
       "  </tbody>\n",
       "</table>\n",
       "</div>"
      ],
      "text/plain": [
       "           event_name            device_id  event_timestamp  group_id  \\\n",
       "0            Tutorial  3737462046622621720       1564618048       246   \n",
       "1    MainScreenAppear  3737462046622621720       1564618080       246   \n",
       "2    MainScreenAppear  3737462046622621720       1564618135       246   \n",
       "3  OffersScreenAppear  3737462046622621720       1564618138       246   \n",
       "4    MainScreenAppear  1433840883824088890       1564618139       247   \n",
       "\n",
       "       event_datetime event_date  \n",
       "0 2019-08-01 00:07:28 2019-08-01  \n",
       "1 2019-08-01 00:08:00 2019-08-01  \n",
       "2 2019-08-01 00:08:55 2019-08-01  \n",
       "3 2019-08-01 00:08:58 2019-08-01  \n",
       "4 2019-08-01 00:08:59 2019-08-01  "
      ]
     },
     "execution_count": 74,
     "metadata": {},
     "output_type": "execute_result"
    }
   ],
   "source": [
    "data.head()"
   ]
  },
  {
   "cell_type": "code",
   "execution_count": 75,
   "metadata": {},
   "outputs": [
    {
     "data": {
      "text/html": [
       "<div>\n",
       "<style scoped>\n",
       "    .dataframe tbody tr th:only-of-type {\n",
       "        vertical-align: middle;\n",
       "    }\n",
       "\n",
       "    .dataframe tbody tr th {\n",
       "        vertical-align: top;\n",
       "    }\n",
       "\n",
       "    .dataframe thead th {\n",
       "        text-align: right;\n",
       "    }\n",
       "</style>\n",
       "<table border=\"1\" class=\"dataframe\">\n",
       "  <thead>\n",
       "    <tr style=\"text-align: right;\">\n",
       "      <th></th>\n",
       "      <th>device_id</th>\n",
       "    </tr>\n",
       "    <tr>\n",
       "      <th>group_id</th>\n",
       "      <th></th>\n",
       "    </tr>\n",
       "  </thead>\n",
       "  <tbody>\n",
       "    <tr>\n",
       "      <th>246</th>\n",
       "      <td>2484</td>\n",
       "    </tr>\n",
       "    <tr>\n",
       "      <th>247</th>\n",
       "      <td>2513</td>\n",
       "    </tr>\n",
       "    <tr>\n",
       "      <th>248</th>\n",
       "      <td>2537</td>\n",
       "    </tr>\n",
       "  </tbody>\n",
       "</table>\n",
       "</div>"
      ],
      "text/plain": [
       "          device_id\n",
       "group_id           \n",
       "246            2484\n",
       "247            2513\n",
       "248            2537"
      ]
     },
     "execution_count": 75,
     "metadata": {},
     "output_type": "execute_result"
    }
   ],
   "source": [
    "# посмотрим количество пользователей в каждой из групп\n",
    "data.groupby('group_id').agg({'device_id':'nunique'})"
   ]
  },
  {
   "cell_type": "markdown",
   "metadata": {},
   "source": [
    "В целом можно сказать группы равные (разница в контрольных группах около 1%, с тестовой около 2%), явного перевеса нет."
   ]
  },
  {
   "cell_type": "code",
   "execution_count": 76,
   "metadata": {},
   "outputs": [
    {
     "data": {
      "text/plain": [
       "0"
      ]
     },
     "metadata": {},
     "output_type": "display_data"
    },
    {
     "data": {
      "text/plain": [
       "0"
      ]
     },
     "metadata": {},
     "output_type": "display_data"
    },
    {
     "data": {
      "text/plain": [
       "0"
      ]
     },
     "metadata": {},
     "output_type": "display_data"
    }
   ],
   "source": [
    "# проверим не попали ли пользователи в разные группы\n",
    "users_246 = data.query('group_id == 246')['device_id'].unique()\n",
    "users_247 = data.query('group_id == 247')['device_id'].unique()\n",
    "users_248 = data.query('group_id == 248')['device_id'].unique()\n",
    "\n",
    "display(len(set(users_246).intersection(users_247)))\n",
    "display(len(set(users_246).intersection(users_248)))\n",
    "display(len(set(users_247).intersection(users_248)))"
   ]
  },
  {
   "cell_type": "markdown",
   "metadata": {},
   "source": [
    "Группы содержат уникальных пользователей. Пересечений нет."
   ]
  },
  {
   "cell_type": "markdown",
   "metadata": {},
   "source": [
    "### Шаг 4. Воронка продаж"
   ]
  },
  {
   "cell_type": "code",
   "execution_count": 77,
   "metadata": {
    "scrolled": false
   },
   "outputs": [
    {
     "data": {
      "text/html": [
       "<div>\n",
       "<style scoped>\n",
       "    .dataframe tbody tr th:only-of-type {\n",
       "        vertical-align: middle;\n",
       "    }\n",
       "\n",
       "    .dataframe tbody tr th {\n",
       "        vertical-align: top;\n",
       "    }\n",
       "\n",
       "    .dataframe thead th {\n",
       "        text-align: right;\n",
       "    }\n",
       "</style>\n",
       "<table border=\"1\" class=\"dataframe\">\n",
       "  <thead>\n",
       "    <tr style=\"text-align: right;\">\n",
       "      <th></th>\n",
       "      <th>total_events</th>\n",
       "    </tr>\n",
       "    <tr>\n",
       "      <th>event_name</th>\n",
       "      <th></th>\n",
       "    </tr>\n",
       "  </thead>\n",
       "  <tbody>\n",
       "    <tr>\n",
       "      <th>MainScreenAppear</th>\n",
       "      <td>117328</td>\n",
       "    </tr>\n",
       "    <tr>\n",
       "      <th>OffersScreenAppear</th>\n",
       "      <td>46333</td>\n",
       "    </tr>\n",
       "    <tr>\n",
       "      <th>CartScreenAppear</th>\n",
       "      <td>42303</td>\n",
       "    </tr>\n",
       "    <tr>\n",
       "      <th>PaymentScreenSuccessful</th>\n",
       "      <td>33918</td>\n",
       "    </tr>\n",
       "    <tr>\n",
       "      <th>Tutorial</th>\n",
       "      <td>1005</td>\n",
       "    </tr>\n",
       "  </tbody>\n",
       "</table>\n",
       "</div>"
      ],
      "text/plain": [
       "                         total_events\n",
       "event_name                           \n",
       "MainScreenAppear               117328\n",
       "OffersScreenAppear              46333\n",
       "CartScreenAppear                42303\n",
       "PaymentScreenSuccessful         33918\n",
       "Tutorial                         1005"
      ]
     },
     "execution_count": 77,
     "metadata": {},
     "output_type": "execute_result"
    }
   ],
   "source": [
    "# посмотрим сколько раз были совершены события\n",
    "total_events = (\n",
    "    data.groupby('event_name')\n",
    "        .agg({'device_id':'count'})\n",
    "        .rename(columns={'device_id':'total_events'})\n",
    "        .sort_values('total_events', ascending=False)\n",
    ")\n",
    "\n",
    "total_events"
   ]
  },
  {
   "cell_type": "code",
   "execution_count": 78,
   "metadata": {},
   "outputs": [
    {
     "data": {
      "image/png": "[encoded data removed]",
      "text/plain": [
       "<Figure size 640x480 with 1 Axes>"
      ]
     },
     "metadata": {},
     "output_type": "display_data"
    }
   ],
   "source": [
    "# построим круговую диаграмму\n",
    "total_events['total_events'].plot(kind='pie', colors = sns.color_palette('pastel'), autopct='%.1f%%')\n",
    "plt.title('Доли событий');"
   ]
  },
  {
   "cell_type": "code",
   "execution_count": 79,
   "metadata": {},
   "outputs": [],
   "source": [
    "# посчитаем количество уникальных пользователей для каждого события и их доли\n",
    "total_users = (\n",
    "    data.groupby('event_name')\n",
    "        .agg({'device_id':'nunique'})\n",
    "        .rename(columns={'device_id':'unique_users'})\n",
    "        .sort_values('unique_users', ascending=False)\n",
    ")\n",
    "\n",
    "total_users['ratio'] = round(total_users['unique_users'] / data['device_id'].nunique(), 3)"
   ]
  },
  {
   "cell_type": "code",
   "execution_count": 80,
   "metadata": {},
   "outputs": [
    {
     "data": {
      "text/html": [
       "<div>\n",
       "<style scoped>\n",
       "    .dataframe tbody tr th:only-of-type {\n",
       "        vertical-align: middle;\n",
       "    }\n",
       "\n",
       "    .dataframe tbody tr th {\n",
       "        vertical-align: top;\n",
       "    }\n",
       "\n",
       "    .dataframe thead th {\n",
       "        text-align: right;\n",
       "    }\n",
       "</style>\n",
       "<table border=\"1\" class=\"dataframe\">\n",
       "  <thead>\n",
       "    <tr style=\"text-align: right;\">\n",
       "      <th></th>\n",
       "      <th>unique_users</th>\n",
       "      <th>ratio</th>\n",
       "    </tr>\n",
       "    <tr>\n",
       "      <th>event_name</th>\n",
       "      <th></th>\n",
       "      <th></th>\n",
       "    </tr>\n",
       "  </thead>\n",
       "  <tbody>\n",
       "    <tr>\n",
       "      <th>MainScreenAppear</th>\n",
       "      <td>7419</td>\n",
       "      <td>0.985</td>\n",
       "    </tr>\n",
       "    <tr>\n",
       "      <th>OffersScreenAppear</th>\n",
       "      <td>4593</td>\n",
       "      <td>0.610</td>\n",
       "    </tr>\n",
       "    <tr>\n",
       "      <th>CartScreenAppear</th>\n",
       "      <td>3734</td>\n",
       "      <td>0.496</td>\n",
       "    </tr>\n",
       "    <tr>\n",
       "      <th>PaymentScreenSuccessful</th>\n",
       "      <td>3539</td>\n",
       "      <td>0.470</td>\n",
       "    </tr>\n",
       "    <tr>\n",
       "      <th>Tutorial</th>\n",
       "      <td>840</td>\n",
       "      <td>0.111</td>\n",
       "    </tr>\n",
       "  </tbody>\n",
       "</table>\n",
       "</div>"
      ],
      "text/plain": [
       "                         unique_users  ratio\n",
       "event_name                                  \n",
       "MainScreenAppear                 7419  0.985\n",
       "OffersScreenAppear               4593  0.610\n",
       "CartScreenAppear                 3734  0.496\n",
       "PaymentScreenSuccessful          3539  0.470\n",
       "Tutorial                          840  0.111"
      ]
     },
     "execution_count": 80,
     "metadata": {},
     "output_type": "execute_result"
    }
   ],
   "source": [
    "total_users"
   ]
  },
  {
   "cell_type": "code",
   "execution_count": 81,
   "metadata": {},
   "outputs": [
    {
     "data": {
      "image/png": "[encoded data removed]",
      "text/plain": [
       "<Figure size 500x200 with 1 Axes>"
      ]
     },
     "metadata": {},
     "output_type": "display_data"
    }
   ],
   "source": [
    "# посмотрим на графике полученные доли в %\n",
    "total_users['ratio'].sort_values().plot(kind='barh', figsize=(5,2))\n",
    "for index, value in enumerate(reversed(total_users.ratio)):\n",
    "    plt.text(value, index, f'{value*100}%')\n",
    "plt.title('Доли пользователей, совершавших события (воронка продаж)');"
   ]
  },
  {
   "cell_type": "markdown",
   "metadata": {},
   "source": [
    "__Структура воронки. Порядок событий и доля пользователей, совершивших их.__\n",
    "1. Главный экран - на графике видим, что почти все пользователи (98.5%) зашли в приложение и увидели главный экран.\n",
    "2. Экран с товарами - 61% пользователей смотрели каталог\n",
    "3. Корзина - половина пользователей (49.6%) перешли в корзину\n",
    "4. Экран оплаты - 47% успешно завершили покупку\n",
    "\n",
    "Также 11% пользователей попали на экран руководства/инструкций - данное событие не является ключевым шагом воронки, на экран с руководством пользователи могут попадать по разным причинам на любом этапе. Далее при анализе не будем его учитывать."
   ]
  },
  {
   "cell_type": "code",
   "execution_count": 82,
   "metadata": {},
   "outputs": [],
   "source": [
    "# уберем из таблицы данные о заходах на страницу tutorial\n",
    "total_funnel = total_users.query('index != \"Tutorial\"').copy()"
   ]
  },
  {
   "cell_type": "code",
   "execution_count": 83,
   "metadata": {},
   "outputs": [],
   "source": [
    "# посчитаем значения конверсии в шаг (какая часть пользователей переходит на следующий этап относительно предыдущего)\n",
    "step_conv = [total_funnel.ratio[0]]\n",
    "for i in range(1, len(total_funnel)):\n",
    "    step_conv.append(round(total_funnel.unique_users[i] / total_funnel.unique_users[i - 1], 3))\n",
    "\n",
    "total_funnel['step_conversion'] = step_conv"
   ]
  },
  {
   "cell_type": "code",
   "execution_count": 84,
   "metadata": {},
   "outputs": [
    {
     "data": {
      "text/html": [
       "<div>\n",
       "<style scoped>\n",
       "    .dataframe tbody tr th:only-of-type {\n",
       "        vertical-align: middle;\n",
       "    }\n",
       "\n",
       "    .dataframe tbody tr th {\n",
       "        vertical-align: top;\n",
       "    }\n",
       "\n",
       "    .dataframe thead th {\n",
       "        text-align: right;\n",
       "    }\n",
       "</style>\n",
       "<table border=\"1\" class=\"dataframe\">\n",
       "  <thead>\n",
       "    <tr style=\"text-align: right;\">\n",
       "      <th></th>\n",
       "      <th>unique_users</th>\n",
       "      <th>ratio</th>\n",
       "      <th>step_conversion</th>\n",
       "    </tr>\n",
       "    <tr>\n",
       "      <th>event_name</th>\n",
       "      <th></th>\n",
       "      <th></th>\n",
       "      <th></th>\n",
       "    </tr>\n",
       "  </thead>\n",
       "  <tbody>\n",
       "    <tr>\n",
       "      <th>MainScreenAppear</th>\n",
       "      <td>7419</td>\n",
       "      <td>0.985</td>\n",
       "      <td>0.985</td>\n",
       "    </tr>\n",
       "    <tr>\n",
       "      <th>OffersScreenAppear</th>\n",
       "      <td>4593</td>\n",
       "      <td>0.610</td>\n",
       "      <td>0.619</td>\n",
       "    </tr>\n",
       "    <tr>\n",
       "      <th>CartScreenAppear</th>\n",
       "      <td>3734</td>\n",
       "      <td>0.496</td>\n",
       "      <td>0.813</td>\n",
       "    </tr>\n",
       "    <tr>\n",
       "      <th>PaymentScreenSuccessful</th>\n",
       "      <td>3539</td>\n",
       "      <td>0.470</td>\n",
       "      <td>0.948</td>\n",
       "    </tr>\n",
       "  </tbody>\n",
       "</table>\n",
       "</div>"
      ],
      "text/plain": [
       "                         unique_users  ratio  step_conversion\n",
       "event_name                                                   \n",
       "MainScreenAppear                 7419  0.985            0.985\n",
       "OffersScreenAppear               4593  0.610            0.619\n",
       "CartScreenAppear                 3734  0.496            0.813\n",
       "PaymentScreenSuccessful          3539  0.470            0.948"
      ]
     },
     "execution_count": 84,
     "metadata": {},
     "output_type": "execute_result"
    }
   ],
   "source": [
    "total_funnel"
   ]
  },
  {
   "cell_type": "code",
   "execution_count": 85,
   "metadata": {},
   "outputs": [
    {
     "data": {
      "image/png": "[encoded data removed]",
      "text/plain": [
       "<Figure size 500x200 with 1 Axes>"
      ]
     },
     "metadata": {},
     "output_type": "display_data"
    }
   ],
   "source": [
    "# посмотрим на графике конверсию в шаг\n",
    "total_funnel.sort_values('unique_users')['step_conversion'].plot(kind='barh', figsize=(5,2))\n",
    "for index, value in enumerate(reversed(total_funnel.step_conversion)):\n",
    "    plt.text(value, index, f'{value*100}%')\n",
    "plt.title('Конверсия в шаг');"
   ]
  },
  {
   "cell_type": "markdown",
   "metadata": {},
   "source": [
    "На графике видим, что наибольшая доля пользователей (38.1%) теряется на переходе с главного экрана к экрану товаров, т.е. они не попадают в каталог.\n",
    "\n",
    "Далее ситуация лучше - с экрана товаров в корзину переходят 81.3% пользователей - примерно 4 из 5 клиентов находят необходимый товар.\n",
    "\n",
    "94.8% из них совершают покупку, т.е. более 5% пользователей отсеиваются на финальной стадии."
   ]
  },
  {
   "cell_type": "code",
   "execution_count": 86,
   "metadata": {},
   "outputs": [
    {
     "data": {
      "text/plain": [
       "0.47701846610055265"
      ]
     },
     "execution_count": 86,
     "metadata": {},
     "output_type": "execute_result"
    }
   ],
   "source": [
    "total_funnel.unique_users[3] / total_funnel.unique_users[0]"
   ]
  },
  {
   "cell_type": "markdown",
   "metadata": {},
   "source": [
    "Всего покупку совершают 47.7% пользователей."
   ]
  },
  {
   "cell_type": "markdown",
   "metadata": {},
   "source": [
    "### Шаг 5. Изучите результаты эксперимента"
   ]
  },
  {
   "cell_type": "markdown",
   "metadata": {},
   "source": [
    "На стадии исследовательского анализа мы проверяли численность групп и выяснили, что они примерно равные по численности, при этом пользователей, попавших в разные группы, нет."
   ]
  },
  {
   "cell_type": "markdown",
   "metadata": {},
   "source": [
    "__A/A тест__\n",
    "\n",
    "Есть 2 контрольные группы (246 и 247), а также тестовая (248) - пользователи, которые имели дело с приложением с измененным шрифтом. Перед проведением полноценного A/B теста необходимо провести A/A эксперимент и убедиться, что контрольные группы консистентны."
   ]
  },
  {
   "cell_type": "markdown",
   "metadata": {},
   "source": [
    "Агрегируем данные по каждой группе в единый датафрейм. Добавим информацию о количестве пользователей на каждом этапе и значения долей. Доли пользователей, перешедших на страницу руководства (событие `Tutorial`), анализировать не будем."
   ]
  },
  {
   "cell_type": "code",
   "execution_count": 87,
   "metadata": {},
   "outputs": [],
   "source": [
    "# напишем функцию для расчета\n",
    "def get_aab_data(data):\n",
    "    # рассчитаем размеры групп\n",
    "    aab_data = (\n",
    "        data.groupby('group_id')\n",
    "            .agg({'device_id':'nunique'})\n",
    "            .rename(columns={'device_id':'total_users'})\n",
    "            .reset_index()\n",
    "    )\n",
    "    \n",
    "    # посчитаем количество пользователей для каждого события и добавим данные в датафрейм\n",
    "    for event in ['MainScreenAppear', 'OffersScreenAppear', 'CartScreenAppear', 'PaymentScreenSuccessful']:\n",
    "        aab_data = (\n",
    "            aab_data.merge(\n",
    "                data.query('event_name == @event').groupby('group_id')\n",
    "                                                .agg({'device_id':'nunique'})\n",
    "                                                .rename(columns={'device_id':event}), how='left', on='group_id')\n",
    "        )\n",
    "    # транспонируем таблицу и переименуем колонки\n",
    "    aab_data = aab_data.set_index('group_id').T\n",
    "    aab_data.columns = ['246_control', '247_control', '248_test']\n",
    "\n",
    "    # объединим данные контрольных групп для получения комбинированной выборки\n",
    "    aab_data['control_combined'] = aab_data['246_control'] + aab_data['247_control']\n",
    "\n",
    "    # посчитаем значения конверсии для каждой группы и добавим в общий датафрейм\n",
    "    for group in aab_data.columns:\n",
    "        conversion = [1]\n",
    "        for i in range(1, len(aab_data)):\n",
    "            conversion.append(round(aab_data[group][i] / aab_data[group][0], 3))\n",
    "        aab_data[group+'_conversion'] = conversion\n",
    "    \n",
    "    aab_data = aab_data.reset_index().rename(columns={'index':'event_name'})\n",
    "    \n",
    "    return aab_data"
   ]
  },
  {
   "cell_type": "code",
   "execution_count": 88,
   "metadata": {},
   "outputs": [],
   "source": [
    "# применим функцию и посмотрим результаты\n",
    "aab_data = get_aab_data(data)"
   ]
  },
  {
   "cell_type": "code",
   "execution_count": 89,
   "metadata": {},
   "outputs": [
    {
     "data": {
      "text/html": [
       "<div>\n",
       "<style scoped>\n",
       "    .dataframe tbody tr th:only-of-type {\n",
       "        vertical-align: middle;\n",
       "    }\n",
       "\n",
       "    .dataframe tbody tr th {\n",
       "        vertical-align: top;\n",
       "    }\n",
       "\n",
       "    .dataframe thead th {\n",
       "        text-align: right;\n",
       "    }\n",
       "</style>\n",
       "<table border=\"1\" class=\"dataframe\">\n",
       "  <thead>\n",
       "    <tr style=\"text-align: right;\">\n",
       "      <th></th>\n",
       "      <th>event_name</th>\n",
       "      <th>246_control</th>\n",
       "      <th>247_control</th>\n",
       "      <th>248_test</th>\n",
       "      <th>control_combined</th>\n",
       "      <th>246_control_conversion</th>\n",
       "      <th>247_control_conversion</th>\n",
       "      <th>248_test_conversion</th>\n",
       "      <th>control_combined_conversion</th>\n",
       "    </tr>\n",
       "  </thead>\n",
       "  <tbody>\n",
       "    <tr>\n",
       "      <th>0</th>\n",
       "      <td>total_users</td>\n",
       "      <td>2484</td>\n",
       "      <td>2513</td>\n",
       "      <td>2537</td>\n",
       "      <td>4997</td>\n",
       "      <td>1.000</td>\n",
       "      <td>1.000</td>\n",
       "      <td>1.000</td>\n",
       "      <td>1.000</td>\n",
       "    </tr>\n",
       "    <tr>\n",
       "      <th>1</th>\n",
       "      <td>MainScreenAppear</td>\n",
       "      <td>2450</td>\n",
       "      <td>2476</td>\n",
       "      <td>2493</td>\n",
       "      <td>4926</td>\n",
       "      <td>0.986</td>\n",
       "      <td>0.985</td>\n",
       "      <td>0.983</td>\n",
       "      <td>0.986</td>\n",
       "    </tr>\n",
       "    <tr>\n",
       "      <th>2</th>\n",
       "      <td>OffersScreenAppear</td>\n",
       "      <td>1542</td>\n",
       "      <td>1520</td>\n",
       "      <td>1531</td>\n",
       "      <td>3062</td>\n",
       "      <td>0.621</td>\n",
       "      <td>0.605</td>\n",
       "      <td>0.603</td>\n",
       "      <td>0.613</td>\n",
       "    </tr>\n",
       "    <tr>\n",
       "      <th>3</th>\n",
       "      <td>CartScreenAppear</td>\n",
       "      <td>1266</td>\n",
       "      <td>1238</td>\n",
       "      <td>1230</td>\n",
       "      <td>2504</td>\n",
       "      <td>0.510</td>\n",
       "      <td>0.493</td>\n",
       "      <td>0.485</td>\n",
       "      <td>0.501</td>\n",
       "    </tr>\n",
       "    <tr>\n",
       "      <th>4</th>\n",
       "      <td>PaymentScreenSuccessful</td>\n",
       "      <td>1200</td>\n",
       "      <td>1158</td>\n",
       "      <td>1181</td>\n",
       "      <td>2358</td>\n",
       "      <td>0.483</td>\n",
       "      <td>0.461</td>\n",
       "      <td>0.466</td>\n",
       "      <td>0.472</td>\n",
       "    </tr>\n",
       "  </tbody>\n",
       "</table>\n",
       "</div>"
      ],
      "text/plain": [
       "                event_name  246_control  247_control  248_test  \\\n",
       "0              total_users         2484         2513      2537   \n",
       "1         MainScreenAppear         2450         2476      2493   \n",
       "2       OffersScreenAppear         1542         1520      1531   \n",
       "3         CartScreenAppear         1266         1238      1230   \n",
       "4  PaymentScreenSuccessful         1200         1158      1181   \n",
       "\n",
       "   control_combined  246_control_conversion  247_control_conversion  \\\n",
       "0              4997                   1.000                   1.000   \n",
       "1              4926                   0.986                   0.985   \n",
       "2              3062                   0.621                   0.605   \n",
       "3              2504                   0.510                   0.493   \n",
       "4              2358                   0.483                   0.461   \n",
       "\n",
       "   248_test_conversion  control_combined_conversion  \n",
       "0                1.000                        1.000  \n",
       "1                0.983                        0.986  \n",
       "2                0.603                        0.613  \n",
       "3                0.485                        0.501  \n",
       "4                0.466                        0.472  "
      ]
     },
     "execution_count": 89,
     "metadata": {},
     "output_type": "execute_result"
    }
   ],
   "source": [
    "aab_data"
   ]
  },
  {
   "cell_type": "markdown",
   "metadata": {},
   "source": [
    "Теперь у нас есть все необходимые данные для анализа: количество уникальных пользователей по группам для каждого события, а также их доля для каждого события (конверсия). Посмотрим данные всех групп на графике"
   ]
  },
  {
   "cell_type": "code",
   "execution_count": 90,
   "metadata": {},
   "outputs": [
    {
     "data": {
      "image/png": "[encoded data removed]"
     },
     "metadata": {},
     "output_type": "display_data"
    }
   ],
   "source": [
    "# отобразим воронки всех исследуемых групп на одном графике для наглядного сравнения\n",
    "fig = go.Figure()\n",
    "\n",
    "fig.add_trace(go.Funnel(\n",
    "    name = '246',\n",
    "    y = aab_data.event_name,\n",
    "    x = aab_data['246_control'],\n",
    "    textinfo = \"value+percent initial\"))\n",
    "\n",
    "fig.add_trace(go.Funnel(\n",
    "    name = '247',\n",
    "    orientation = \"h\",\n",
    "    y = aab_data.event_name,\n",
    "    x = aab_data['247_control'],\n",
    "    textposition = \"inside\",\n",
    "    textinfo = \"value+percent initial\"))\n",
    "\n",
    "fig.add_trace(go.Funnel(\n",
    "    name = '248',\n",
    "    orientation = \"h\",\n",
    "    y = aab_data.event_name,\n",
    "    x = aab_data['248_test'],\n",
    "    textposition = \"inside\",\n",
    "    textinfo = \"value+percent initial\"))\n",
    "\n",
    "fig.update_layout(title=\"Сравнение воронок по группам (доли пользоваталей, совершивших события)\")\n",
    "fig.show(renderer='png', width=850, height=500, scale=None);"
   ]
  },
  {
   "cell_type": "markdown",
   "metadata": {},
   "source": [
    "В целом явных различий, перевесов в сторону какой-либо группы нет. Наблюдаются лишь небольшие расхождения в 1-2% - необходимо проверить являются ли эти различия статистически значимыми.\n",
    "\n",
    "Для начала сравним между собой контрольные группы (проведем A/A тест). Количество наблюдений достаточное, поэтому для сравнения пропорций в двух группах выберем параметрический критерий Z-тест, с помощью которого сравним разницу в долях и определим, является ли различие статистически значимым.\n",
    "\n",
    "Сформулируем гипотезы для A/A эксперимента:\n",
    "- Нулевая гипотеза H0 - разницы в значении конверсии между контрольными группами нет.\n",
    "- Альтернативная гипотеза H1 - конверсия в группах отличается (двухсторонняя гипотеза)"
   ]
  },
  {
   "cell_type": "code",
   "execution_count": 91,
   "metadata": {},
   "outputs": [],
   "source": [
    "# напишем функцию для сравнения 2 выборок с помощью Z-теста, принимающую значения количества пользователей для разных событий\n",
    "# а также уровень alpha (по умолчанию поставим 0.05)\n",
    "def z_test(column_1, column_2, alpha=0.05):\n",
    "    for i in range(1, len(column_1)):\n",
    "        \n",
    "        # p1 и p2 - конверсии для события в сравниваемых группах\n",
    "        p1 = column_1[i] / column_1[0]\n",
    "        p2 = column_2[i] / column_2[0]\n",
    "        \n",
    "        # конверсия комбинированной выборки\n",
    "        p_combined = (column_1[i] + column_2[i]) / (column_1[0] + column_2[0])\n",
    "        \n",
    "        # разница пропорций в выборках\n",
    "        difference = p1 - p2\n",
    "        \n",
    "        # считаем статистику в ст.отклонениях стандартного нормального распределения\n",
    "        z_value = (\n",
    "            difference /\n",
    "            math.sqrt(p_combined * (1 - p_combined) * (1 / column_1[0] + 1 / column_2[0]))\n",
    "        )\n",
    "        \n",
    "        # задаем стандартное нормальное распределение (среднее 0, ст.отклонение 1)\n",
    "        distr = st.norm(0, 1)\n",
    "        \n",
    "        # задаем alpha (по умолчанию 0.05)\n",
    "        alpha = alpha\n",
    "        \n",
    "        # считаем p-value\n",
    "        p_value = (1 - distr.cdf(abs(z_value))) * 2\n",
    "        \n",
    "        # формируем выводы\n",
    "        try:\n",
    "            print('Доли пользователей, совершивших событие {}'.format(aab_data['event_name'][i]))\n",
    "        except:\n",
    "            print(f'Доли пользователей, перешедших на {i} шаг')\n",
    "            \n",
    "        print(f'конверсия 1-й группы {p1}, конверсия 2-й группы {p2}')\n",
    "        print('p-значение: ', p_value)\n",
    "\n",
    "        if p_value < alpha:\n",
    "            print('Отвергаем нулевую гипотезу: между долями есть значимая разница')\n",
    "        else:\n",
    "            print(\n",
    "                'Недостаточно оснований отвергнуть нулевую гипотезу, т.е. считать доли разными'\n",
    "            )\n",
    "        print('---------')"
   ]
  },
  {
   "cell_type": "markdown",
   "metadata": {},
   "source": [
    "Применим Z-тест для двух контрольных выборок для конверсии на каждом шаге (для каждого события)"
   ]
  },
  {
   "cell_type": "code",
   "execution_count": 92,
   "metadata": {},
   "outputs": [
    {
     "name": "stdout",
     "output_type": "stream",
     "text": [
      "Доли пользователей, совершивших событие MainScreenAppear\n",
      "конверсия 1-й группы 0.9863123993558777, конверсия 2-й группы 0.9852765618782332\n",
      "p-значение:  0.7570597232046099\n",
      "Недостаточно оснований отвергнуть нулевую гипотезу, т.е. считать доли разными\n",
      "---------\n",
      "Доли пользователей, совершивших событие OffersScreenAppear\n",
      "конверсия 1-й группы 0.6207729468599034, конверсия 2-й группы 0.6048547552725826\n",
      "p-значение:  0.2480954578522181\n",
      "Недостаточно оснований отвергнуть нулевую гипотезу, т.е. считать доли разными\n",
      "---------\n",
      "Доли пользователей, совершивших событие CartScreenAppear\n",
      "конверсия 1-й группы 0.5096618357487923, конверсия 2-й группы 0.4926382809391166\n",
      "p-значение:  0.22883372237997213\n",
      "Недостаточно оснований отвергнуть нулевую гипотезу, т.е. считать доли разными\n",
      "---------\n",
      "Доли пользователей, совершивших событие PaymentScreenSuccessful\n",
      "конверсия 1-й группы 0.4830917874396135, конверсия 2-й группы 0.46080382013529647\n",
      "p-значение:  0.11456679313141849\n",
      "Недостаточно оснований отвергнуть нулевую гипотезу, т.е. считать доли разными\n",
      "---------\n"
     ]
    }
   ],
   "source": [
    "# применим z-тест с помощью функции для контрольных выборок\n",
    "z_test(aab_data['246_control'], aab_data['247_control'])"
   ]
  },
  {
   "cell_type": "markdown",
   "metadata": {},
   "source": [
    "Таким образом между значениями конверсии выборок 246 и 247 нет статистически значимых различий, а разница в значении общей конверсии 2.2% получена случайно, т.е. H0 верна, группы консистентны, значит можем проводить A/A/B тест и анализировать результаты тестовой группы."
   ]
  },
  {
   "cell_type": "markdown",
   "metadata": {},
   "source": [
    "__A/A/B тест__"
   ]
  },
  {
   "cell_type": "markdown",
   "metadata": {},
   "source": [
    "Гипотезы для A/A/B эксперимента:\n",
    "- Нулевая гипотеза H0 - конверсия пользователей в тестовой группе не отличается от показателей пользователей контрольных групп;\n",
    "- Альтернативная гипотеза H1 - значения конверсии в тестовой и контрольных группах различны."
   ]
  },
  {
   "cell_type": "markdown",
   "metadata": {},
   "source": [
    "Поскольку в нашем A/A/B тесте участвуют сразу несколько групп, каждую из которых мы сравниваем сразу по 4 пропорциям (значениям конверсии на каждом шаге воронки), необходимо применить поправку, используемую при множественной проверке гипотез. В нашем случае суммарно проверяется 16 гипотез, что не позволяет использовать поправку Бонферрони из-за сильного снижения уровня alpha и уменьшения мощности теста. Таким образом применим поправку Шидака-Холма, для чего обновим функцию, с помощью которой соберем все необходимые уровни p-value для каждой пары, после чего объединим их в один список, скорректируем их значения и посмотрим результаты."
   ]
  },
  {
   "cell_type": "code",
   "execution_count": 93,
   "metadata": {},
   "outputs": [],
   "source": [
    "# обновим функцию, теперь она будет возвращать список Значений p-value\n",
    "def get_pvalue_z_test(column_1, column_2, alpha=0.05):\n",
    "    pvalues = []\n",
    "    for i in range(1, len(column_1)):\n",
    "        \n",
    "        # p1 и p2 - конверсии для события в сравниваемых группах\n",
    "        p1 = column_1[i] / column_1[0]\n",
    "        p2 = column_2[i] / column_2[0]\n",
    "        \n",
    "        # конверсия комбинированной выборки\n",
    "        p_combined = (column_1[i] + column_2[i]) / (column_1[0] + column_2[0])\n",
    "        \n",
    "        # разница пропорций в выборках\n",
    "        difference = p1 - p2\n",
    "        \n",
    "        # считаем статистику в ст.отклонениях стандартного нормального распределения\n",
    "        z_value = (\n",
    "            difference /\n",
    "            math.sqrt(p_combined * (1 - p_combined) * (1 / column_1[0] + 1 / column_2[0]))\n",
    "        )\n",
    "        \n",
    "        # задаем стандартное нормальное распределение (среднее 0, ст.отклонение 1)\n",
    "        distr = st.norm(0, 1)\n",
    "        \n",
    "        # задаем alpha (по умолчанию 0.05)\n",
    "        alpha = alpha\n",
    "        \n",
    "        # считаем p-value\n",
    "        p_value = (1 - distr.cdf(abs(z_value))) * 2\n",
    "        \n",
    "        pvalues.append(p_value)\n",
    "        \n",
    "    return pvalues"
   ]
  },
  {
   "cell_type": "code",
   "execution_count": 94,
   "metadata": {},
   "outputs": [],
   "source": [
    "# применим функцию - проведем все необходимые сравнения и получим списки значений p-value для каждой пары\n",
    "pvalues_246_247 = get_pvalue_z_test(aab_data['246_control'], aab_data['247_control'])\n",
    "pvalues_246_248 = get_pvalue_z_test(aab_data['246_control'], aab_data['248_test'])\n",
    "pvalues_247_248 = get_pvalue_z_test(aab_data['247_control'], aab_data['248_test'])\n",
    "pvalues_248_combined = get_pvalue_z_test(aab_data['248_test'], aab_data['control_combined'])\n",
    "\n",
    "# общий список\n",
    "all_pvalues = pvalues_246_247 + pvalues_246_248 + pvalues_247_248 + pvalues_248_combined"
   ]
  },
  {
   "cell_type": "code",
   "execution_count": 95,
   "metadata": {},
   "outputs": [
    {
     "data": {
      "text/plain": [
       "(array([False, False, False, False, False, False, False, False, False,\n",
       "        False, False, False, False, False, False, False]),\n",
       " array([0.98671472, 0.95204368, 0.95204368, 0.83881038, 0.95656056,\n",
       "        0.95204368, 0.72931821, 0.95204368, 0.98145006, 0.98671472,\n",
       "        0.98671472, 0.98671472, 0.95656056, 0.98145006, 0.93969697,\n",
       "        0.98671472]),\n",
       " 0.0032006977101884937,\n",
       " 0.003125)"
      ]
     },
     "execution_count": 95,
     "metadata": {},
     "output_type": "execute_result"
    }
   ],
   "source": [
    "# применим поправку Шидака-Холма из библиотеки statsmodels \n",
    "multipletests(all_pvalues, method='holm-sidak', alpha=0.05)"
   ]
  },
  {
   "cell_type": "markdown",
   "metadata": {},
   "source": [
    "Таким образом, в ходе множественной проверки гипотез у нас нет оснований полагать, что между группами есть статистически значимые различия."
   ]
  },
  {
   "cell_type": "markdown",
   "metadata": {},
   "source": [
    "## Результаты и общие выводы:"
   ]
  },
  {
   "cell_type": "markdown",
   "metadata": {},
   "source": [
    "1. В рамках исследования были загружены и подготовлены к анализу данные о действиях пользователей мобильного приложения за период с 25.07.2019 по 07.08.2019.\n",
    "2. На стадии предобработки были удалены явные дубликаты, а также информация о событиях за те дни, когда данные оказались неполными - около 1% от общего количества логов. Полноценный анализ проводился за период с 01.08.2019 по 07.08.2019 на основе данных о 7534 пользователях, разделенных на 3 группы - 2 контрольные (246 и 247) и 1 тестовая (248).\n",
    "3. Была проанализирована общая воронка продаж - порядок событий и доли пользователей, которые их совершили. Мы выяснили, что:\n",
    "    * почти все пользователи (98.5%) зашли в приложение и увидели главный экран;\n",
    "    * на экран с товарами (каталог) зашли - 61% пользователей, т.е. 38% пользователей отсеиваются после просмотра главного экрана - следует обратить внимание на данный показатель, вероятно есть какие-то проблемы с интерфейсом;\n",
    "    * около половины пользователей (49.6%) перешли в корзину, значит нашли интересующий товар;\n",
    "    * 47% пользователей успешно завершили покупку;\n",
    "    * еще около 11% пользователей заходили на экран руководства/инструкций. Данное событие не является ключевым в воронке.\n",
    "4. Также был проведен A/A/B тест. За указанный период пользователи тестовой группы взаимодействовали с приложением, в котором дизайнеры изменили шрифт, а пользователи двух контрольных групп совершали покупки без изменений дизайна. С помощью Z-теста было выяснено, что при заданном уровне alpha=0.05 (при множественном сравнении применялась поправка, а уровень FWER=0.05) статистически значимых различий между тестовой и контрольными группами нет. Это означает, что экономического смысла в изменении шрифтов и дизайна приложения нет, однако если инициатива дизайнеров связана с какими-либо иными факторами, например изменением фирменного стиля и т.д., то результаты эксперимента показывают, что препятствий нет - можно менять шрифт и это не отразится на уровне продаж.\n"
   ]
  }
 ],
 "metadata": {
  "ExecuteTimeLog": [
   {
    "duration": 1330,
    "start_time": "2023-02-03T21:47:29.335Z"
   },
   {
    "duration": 357,
    "start_time": "2023-02-03T21:47:30.667Z"
   },
   {
    "duration": 11,
    "start_time": "2023-02-03T21:47:31.025Z"
   },
   {
    "duration": 36,
    "start_time": "2023-02-03T21:47:31.038Z"
   },
   {
    "duration": 3,
    "start_time": "2023-02-03T21:47:31.075Z"
   },
   {
    "duration": 44,
    "start_time": "2023-02-03T21:47:31.080Z"
   },
   {
    "duration": 84,
    "start_time": "2023-02-03T21:47:31.126Z"
   },
   {
    "duration": 58,
    "start_time": "2023-02-03T21:47:31.212Z"
   },
   {
    "duration": 145,
    "start_time": "2023-02-03T21:47:31.273Z"
   },
   {
    "duration": 9,
    "start_time": "2023-02-03T21:47:31.421Z"
   },
   {
    "duration": 11,
    "start_time": "2023-02-03T21:47:31.431Z"
   },
   {
    "duration": 19,
    "start_time": "2023-02-03T21:47:31.444Z"
   },
   {
    "duration": 12,
    "start_time": "2023-02-03T21:47:31.465Z"
   },
   {
    "duration": 24,
    "start_time": "2023-02-03T21:47:31.479Z"
   },
   {
    "duration": 19,
    "start_time": "2023-02-03T21:47:31.505Z"
   },
   {
    "duration": 258,
    "start_time": "2023-02-03T21:47:31.526Z"
   },
   {
    "duration": 25,
    "start_time": "2023-02-03T21:47:31.785Z"
   },
   {
    "duration": 22,
    "start_time": "2023-02-03T21:47:31.812Z"
   },
   {
    "duration": 9,
    "start_time": "2023-02-03T21:47:31.835Z"
   },
   {
    "duration": 57,
    "start_time": "2023-02-03T21:47:31.846Z"
   },
   {
    "duration": 31,
    "start_time": "2023-02-03T21:47:31.905Z"
   },
   {
    "duration": 25,
    "start_time": "2023-02-03T21:47:31.938Z"
   },
   {
    "duration": 144,
    "start_time": "2023-02-03T21:47:31.964Z"
   },
   {
    "duration": 52,
    "start_time": "2023-02-03T21:47:32.109Z"
   },
   {
    "duration": 7,
    "start_time": "2023-02-03T21:47:32.163Z"
   },
   {
    "duration": 163,
    "start_time": "2023-02-03T21:47:32.171Z"
   },
   {
    "duration": 4,
    "start_time": "2023-02-03T21:47:32.336Z"
   },
   {
    "duration": 4,
    "start_time": "2023-02-03T21:47:32.343Z"
   },
   {
    "duration": 9,
    "start_time": "2023-02-03T21:47:32.349Z"
   },
   {
    "duration": 153,
    "start_time": "2023-02-03T21:47:32.359Z"
   },
   {
    "duration": 4,
    "start_time": "2023-02-03T21:47:32.514Z"
   },
   {
    "duration": 7,
    "start_time": "2023-02-03T21:47:32.519Z"
   },
   {
    "duration": 134,
    "start_time": "2023-02-03T21:47:32.527Z"
   },
   {
    "duration": 11,
    "start_time": "2023-02-03T21:47:32.663Z"
   },
   {
    "duration": 259,
    "start_time": "2023-02-03T21:47:32.676Z"
   },
   {
    "duration": 7,
    "start_time": "2023-02-03T21:47:32.936Z"
   },
   {
    "duration": 15,
    "start_time": "2023-02-03T21:47:32.944Z"
   },
   {
    "duration": 31,
    "start_time": "2023-02-03T21:47:32.961Z"
   },
   {
    "duration": 14,
    "start_time": "2023-02-03T21:47:32.994Z"
   },
   {
    "duration": 12,
    "start_time": "2023-02-03T21:47:33.010Z"
   },
   {
    "duration": 1208,
    "start_time": "2023-02-04T21:29:02.929Z"
   },
   {
    "duration": 385,
    "start_time": "2023-02-04T21:29:04.139Z"
   },
   {
    "duration": 11,
    "start_time": "2023-02-04T21:29:04.525Z"
   },
   {
    "duration": 23,
    "start_time": "2023-02-04T21:29:04.537Z"
   },
   {
    "duration": 3,
    "start_time": "2023-02-04T21:29:04.561Z"
   },
   {
    "duration": 31,
    "start_time": "2023-02-04T21:29:04.566Z"
   },
   {
    "duration": 60,
    "start_time": "2023-02-04T21:29:04.598Z"
   },
   {
    "duration": 68,
    "start_time": "2023-02-04T21:29:04.659Z"
   },
   {
    "duration": 119,
    "start_time": "2023-02-04T21:29:04.729Z"
   },
   {
    "duration": 9,
    "start_time": "2023-02-04T21:29:04.850Z"
   },
   {
    "duration": 9,
    "start_time": "2023-02-04T21:29:04.860Z"
   },
   {
    "duration": 35,
    "start_time": "2023-02-04T21:29:04.870Z"
   },
   {
    "duration": 5,
    "start_time": "2023-02-04T21:29:04.907Z"
   },
   {
    "duration": 8,
    "start_time": "2023-02-04T21:29:04.913Z"
   },
   {
    "duration": 6,
    "start_time": "2023-02-04T21:29:04.923Z"
   },
   {
    "duration": 220,
    "start_time": "2023-02-04T21:29:04.930Z"
   },
   {
    "duration": 18,
    "start_time": "2023-02-04T21:29:05.152Z"
   },
   {
    "duration": 37,
    "start_time": "2023-02-04T21:29:05.171Z"
   },
   {
    "duration": 10,
    "start_time": "2023-02-04T21:29:05.210Z"
   },
   {
    "duration": 33,
    "start_time": "2023-02-04T21:29:05.221Z"
   },
   {
    "duration": 39,
    "start_time": "2023-02-04T21:29:05.256Z"
   },
   {
    "duration": 23,
    "start_time": "2023-02-04T21:29:05.296Z"
   },
   {
    "duration": 112,
    "start_time": "2023-02-04T21:29:05.321Z"
   },
   {
    "duration": 64,
    "start_time": "2023-02-04T21:29:05.436Z"
   },
   {
    "duration": 7,
    "start_time": "2023-02-04T21:29:05.501Z"
   },
   {
    "duration": 128,
    "start_time": "2023-02-04T21:29:05.509Z"
   },
   {
    "duration": 4,
    "start_time": "2023-02-04T21:29:05.639Z"
   },
   {
    "duration": 5,
    "start_time": "2023-02-04T21:29:05.647Z"
   },
   {
    "duration": 17,
    "start_time": "2023-02-04T21:29:05.653Z"
   },
   {
    "duration": 121,
    "start_time": "2023-02-04T21:29:05.672Z"
   },
   {
    "duration": 4,
    "start_time": "2023-02-04T21:29:05.794Z"
   },
   {
    "duration": 9,
    "start_time": "2023-02-04T21:29:05.800Z"
   },
   {
    "duration": 116,
    "start_time": "2023-02-04T21:29:05.810Z"
   },
   {
    "duration": 10,
    "start_time": "2023-02-04T21:29:05.927Z"
   },
   {
    "duration": 243,
    "start_time": "2023-02-04T21:29:05.938Z"
   },
   {
    "duration": 7,
    "start_time": "2023-02-04T21:29:06.183Z"
   },
   {
    "duration": 18,
    "start_time": "2023-02-04T21:29:06.191Z"
   },
   {
    "duration": 41,
    "start_time": "2023-02-04T21:29:06.211Z"
   },
   {
    "duration": 42,
    "start_time": "2023-02-04T21:29:06.254Z"
   },
   {
    "duration": 44,
    "start_time": "2023-02-04T21:29:06.298Z"
   },
   {
    "duration": 27,
    "start_time": "2023-02-04T21:29:06.344Z"
   },
   {
    "duration": 38,
    "start_time": "2023-02-04T21:29:06.373Z"
   },
   {
    "duration": 18,
    "start_time": "2023-02-04T21:29:06.413Z"
   },
   {
    "duration": 89,
    "start_time": "2023-02-04T21:29:06.433Z"
   },
   {
    "duration": 12,
    "start_time": "2023-02-04T21:29:06.524Z"
   },
   {
    "duration": 10,
    "start_time": "2023-02-04T21:29:06.537Z"
   },
   {
    "duration": 12,
    "start_time": "2023-02-04T21:29:06.548Z"
   },
   {
    "duration": 1337,
    "start_time": "2023-02-05T07:37:23.274Z"
   },
   {
    "duration": 436,
    "start_time": "2023-02-05T07:37:24.613Z"
   },
   {
    "duration": 13,
    "start_time": "2023-02-05T07:37:25.052Z"
   },
   {
    "duration": 33,
    "start_time": "2023-02-05T07:37:25.067Z"
   },
   {
    "duration": 3,
    "start_time": "2023-02-05T07:37:25.102Z"
   },
   {
    "duration": 26,
    "start_time": "2023-02-05T07:37:25.106Z"
   },
   {
    "duration": 65,
    "start_time": "2023-02-05T07:37:25.134Z"
   },
   {
    "duration": 63,
    "start_time": "2023-02-05T07:37:25.200Z"
   },
   {
    "duration": 135,
    "start_time": "2023-02-05T07:37:25.265Z"
   },
   {
    "duration": 10,
    "start_time": "2023-02-05T07:37:25.403Z"
   },
   {
    "duration": 10,
    "start_time": "2023-02-05T07:37:25.414Z"
   },
   {
    "duration": 32,
    "start_time": "2023-02-05T07:37:25.426Z"
   },
   {
    "duration": 4,
    "start_time": "2023-02-05T07:37:25.460Z"
   },
   {
    "duration": 12,
    "start_time": "2023-02-05T07:37:25.466Z"
   },
   {
    "duration": 7,
    "start_time": "2023-02-05T07:37:25.480Z"
   },
   {
    "duration": 254,
    "start_time": "2023-02-05T07:37:25.488Z"
   },
   {
    "duration": 24,
    "start_time": "2023-02-05T07:37:25.744Z"
   },
   {
    "duration": 26,
    "start_time": "2023-02-05T07:37:25.769Z"
   },
   {
    "duration": 9,
    "start_time": "2023-02-05T07:37:25.798Z"
   },
   {
    "duration": 56,
    "start_time": "2023-02-05T07:37:25.809Z"
   },
   {
    "duration": 28,
    "start_time": "2023-02-05T07:37:25.867Z"
   },
   {
    "duration": 24,
    "start_time": "2023-02-05T07:37:25.896Z"
   },
   {
    "duration": 139,
    "start_time": "2023-02-05T07:37:25.922Z"
   },
   {
    "duration": 51,
    "start_time": "2023-02-05T07:37:26.063Z"
   },
   {
    "duration": 25,
    "start_time": "2023-02-05T07:37:26.115Z"
   },
   {
    "duration": 136,
    "start_time": "2023-02-05T07:37:26.147Z"
   },
   {
    "duration": 5,
    "start_time": "2023-02-05T07:37:26.284Z"
   },
   {
    "duration": 21,
    "start_time": "2023-02-05T07:37:26.292Z"
   },
   {
    "duration": 46,
    "start_time": "2023-02-05T07:37:26.314Z"
   },
   {
    "duration": 124,
    "start_time": "2023-02-05T07:37:26.362Z"
   },
   {
    "duration": 4,
    "start_time": "2023-02-05T07:37:26.487Z"
   },
   {
    "duration": 6,
    "start_time": "2023-02-05T07:37:26.493Z"
   },
   {
    "duration": 129,
    "start_time": "2023-02-05T07:37:26.500Z"
   },
   {
    "duration": 23,
    "start_time": "2023-02-05T07:37:26.631Z"
   },
   {
    "duration": 273,
    "start_time": "2023-02-05T07:37:26.655Z"
   },
   {
    "duration": 8,
    "start_time": "2023-02-05T07:37:26.930Z"
   },
   {
    "duration": 21,
    "start_time": "2023-02-05T07:37:26.947Z"
   },
   {
    "duration": 9,
    "start_time": "2023-02-05T07:37:26.969Z"
   },
   {
    "duration": 13,
    "start_time": "2023-02-05T07:37:26.979Z"
   },
   {
    "duration": 55,
    "start_time": "2023-02-05T07:37:26.994Z"
   },
   {
    "duration": 8,
    "start_time": "2023-02-05T07:37:27.057Z"
   },
   {
    "duration": 22,
    "start_time": "2023-02-05T07:37:27.067Z"
   },
   {
    "duration": 6,
    "start_time": "2023-02-05T07:37:27.091Z"
   },
   {
    "duration": 120,
    "start_time": "2023-02-05T07:37:27.098Z"
   },
   {
    "duration": 11,
    "start_time": "2023-02-05T07:37:27.219Z"
   },
   {
    "duration": 23,
    "start_time": "2023-02-05T07:37:27.232Z"
   },
   {
    "duration": 10,
    "start_time": "2023-02-05T07:37:27.257Z"
   }
  ],
  "kernelspec": {
   "display_name": "Python 3 (ipykernel)",
   "language": "python",
   "name": "python3"
  },
  "language_info": {
   "codemirror_mode": {
    "name": "ipython",
    "version": 3
   },
   "file_extension": ".py",
   "mimetype": "text/x-python",
   "name": "python",
   "nbconvert_exporter": "python",
   "pygments_lexer": "ipython3",
   "version": "3.9.13"
  },
  "toc": {
   "base_numbering": 1,
   "nav_menu": {},
   "number_sections": false,
   "sideBar": true,
   "skip_h1_title": true,
   "title_cell": "Table of Contents",
   "title_sidebar": "Contents",
   "toc_cell": false,
   "toc_position": {
    "height": "577.6px",
    "left": "56px",
    "top": "325px",
    "width": "254.225px"
   },
   "toc_section_display": true,
   "toc_window_display": true
  }
 },
 "nbformat": 4,
 "nbformat_minor": 2
}
